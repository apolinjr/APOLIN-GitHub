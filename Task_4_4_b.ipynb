{
 "cells": [
  {
   "cell_type": "markdown",
   "metadata": {},
   "source": [
    "# Task 4.4 b)"
   ]
  },
  {
   "cell_type": "code",
   "execution_count": 96,
   "metadata": {},
   "outputs": [
    {
     "name": "stdout",
     "output_type": "stream",
     "text": [
      "Value of M    :  24\n",
      "Value of delta:  0.05477410555448553\n"
     ]
    },
    {
     "data": {
      "image/png": "[encoded data removed]",
      "text/plain": [
       "<Figure size 1080x288 with 2 Axes>"
      ]
     },
     "metadata": {
      "needs_background": "light"
     },
     "output_type": "display_data"
    }
   ],
   "source": [
    "import numpy as np\n",
    "from scipy import signal\n",
    "from scipy import special as sps\n",
    "import matplotlib.pyplot  as plt\n",
    "\n",
    "np.seterr(divide='ignore', invalid='ignore');\n",
    "\n",
    "M = 24\n",
    "dw = .1*np.pi\n",
    "delta = 10**((M*2.285*dw + 8)/-20) # gives the correct delta based on the value of M\n",
    "w1 = np.pi/5\n",
    "w2 = 2*np.pi/5\n",
    "w3 = 3*np.pi/5\n",
    "w4 = np.pi\n",
    "w1c = (2*w1-dw)/2\n",
    "w2c = (2*w2-dw)/2\n",
    "w3c = (2*w3+dw)/2\n",
    "w4c = (2*w4-dw)/2\n",
    "G1 = .01 # 40 dB\n",
    "G2 = 0.1 # 20 dB\n",
    "G3 = -np.inf\n",
    "G4 = 1 # 0 dB\n",
    "n = np.arange(M+1)\n",
    "A = -20*np.log10(delta);\n",
    "x = n-M/2\n",
    "\n",
    "# The filter:\n",
    "hi_bp = ((G1-G2)*(np.sin(w1c*x))/(np.pi*x))+((G2-G3)*(np.sin(w2c*x))/(np.pi*x))+((G3-G4)*(np.sin(w3c*x))/(np.pi*x))+(G4*(np.sin(w4c*x))/(np.pi*x))\n",
    "# Found the limit using MatLab function limit()\n",
    "hi_bp[np.isnan(hi_bp)] = ((G1-G2)*w1c + w4c)/(np.pi)\n",
    "#hi_bp[np.isnan(hi_bp)] = w1c/np.pi\n",
    "#hi_bp[np.isnan(hi_bp)] = w2c/np.pi\n",
    "#hi_bp[np.isnan(hi_bp)] = w3c/np.pi\n",
    "#hi_bp[np.isnan(hi_bp)] = w4c/np.pi\n",
    "hi = hi_bp\n",
    "\n",
    "# Building the Kaiser Window:\n",
    "# Input parameters for the Kaiser window:\n",
    "if A > 50:\n",
    "    beta = .1102*(A - 8.7)\n",
    "elif A < 21:\n",
    "    beta = 0.\n",
    "else:\n",
    "    beta = .5842*(A - 21)**(.4) + .07886*(A - 21)\n",
    "\n",
    "# Calling the modified Bessel functions of the first kind:\n",
    "Win = np.abs(np.real(sps.iv(0, beta*(1 - ((n - M/2)/M/2)**2)**(1/2))/sps.iv(0,beta)))\n",
    "\n",
    "h = hi*Win\n",
    "w, H = signal.freqz(h,1,worN=512)\n",
    "\n",
    "print('Value of M    : ',M)\n",
    "print('Value of delta: ',delta)\n",
    "\n",
    "fig1, axs = plt.subplots(1,2, sharex= False,figsize=(15,4))\n",
    "fig1.suptitle('Multiband Filter by Kaiser Window')\n",
    "\n",
    "markerline, stemlines, baseline  = axs[0].stem(h, markerfmt='ko')\n",
    "markerline.set_markerfacecolor('k')\n",
    "stemlines.set_color('k')\n",
    "baseline.set_color('k')\n",
    "\n",
    "axs[0].set_ylabel('Amplitude')\n",
    "axs[0].set_ylim([-1, 1])\n",
    "axs[0].set_yticks([-0.2, 0, 0.2, 0.4, 0.6])\n",
    "axs[0].set_yticklabels([-0.2, 0, 0.2, 0.4, 0.6])\n",
    "axs[0].set_xlim([-1, len(h)])\n",
    "axs[0].set_xticks([0, 10, 20, 30])\n",
    "axs[0].grid(True)\n",
    "\n",
    "axs[1].plot(w,20*np.log10(abs(H)),'k')\n",
    "axs[1].set_ylabel('Gain (dB)')\n",
    "axs[1].set_ylim([-100, 100])\n",
    "axs[1].grid(True)\n",
    "axs[1].set_xlim([0, np.pi])\n",
    "axs[1].set_xticks([0, 2*np.pi/10, 4*np.pi/10, 6*np.pi/10, 8*np.pi/10, np.pi])\n",
    "axs[1].set_xticklabels([0, r'$0.2\\pi$', r'$0.4\\pi$', r'$0.6\\pi$',r'$0.8\\pi$', r'$\\pi$']);\n",
    "\n"
   ]
  },
  {
   "cell_type": "code",
   "execution_count": null,
   "metadata": {},
   "outputs": [],
   "source": []
  }
 ],
 "metadata": {
  "kernelspec": {
   "display_name": "Python 3",
   "language": "python",
   "name": "python3"
  },
  "language_info": {
   "codemirror_mode": {
    "name": "ipython",
    "version": 3
   },
   "file_extension": ".py",
   "mimetype": "text/x-python",
   "name": "python",
   "nbconvert_exporter": "python",
   "pygments_lexer": "ipython3",
   "version": "3.8.5"
  }
 },
 "nbformat": 4,
 "nbformat_minor": 4
}
